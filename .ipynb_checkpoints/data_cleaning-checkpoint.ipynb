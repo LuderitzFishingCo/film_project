{
 "cells": [
  {
   "cell_type": "code",
   "execution_count": 1,
   "id": "9cd1c3aa",
   "metadata": {},
   "outputs": [],
   "source": [
    "import pandas as pd"
   ]
  },
  {
   "cell_type": "code",
   "execution_count": 2,
   "id": "d20e82ff",
   "metadata": {},
   "outputs": [
    {
     "name": "stderr",
     "output_type": "stream",
     "text": [
      "C:\\Users\\ndesh\\anaconda3\\lib\\site-packages\\IPython\\core\\interactiveshell.py:3165: DtypeWarning: Columns (3) have mixed types.Specify dtype option on import or set low_memory=False.\n",
      "  has_raised = await self.run_ast_nodes(code_ast.body, cell_name,\n"
     ]
    }
   ],
   "source": [
    "df = pd.read_csv('IMDb movies.csv')"
   ]
  },
  {
   "cell_type": "code",
   "execution_count": 3,
   "id": "eea7e589",
   "metadata": {},
   "outputs": [],
   "source": [
    "#I like capital letters\n",
    "df['Title'] = df['title']\n",
    "df['Year'] = df['year']\n",
    "df['Runtime'] = df['duration']\n",
    "df['Director'] = df['director']\n",
    "df['Writer'] = df['writer']\n",
    "df['IMDB_Rating'] = df['avg_vote']\n",
    "#Remove the columns I no longer need\n",
    "df = df.drop(labels=['title','year','duration','language','director','writer','avg_vote','imdb_title_id','metascore','original_title','date_published','country','actors','production_company','description','votes','budget','usa_gross_income','worlwide_gross_income','reviews_from_users','reviews_from_critics'], axis = 1)"
   ]
  },
  {
   "cell_type": "code",
   "execution_count": 4,
   "id": "b0328411",
   "metadata": {},
   "outputs": [
    {
     "data": {
      "text/plain": [
       "genre             0\n",
       "Title             0\n",
       "Year              0\n",
       "Runtime           0\n",
       "Director         87\n",
       "Writer         1572\n",
       "IMDB_Rating       0\n",
       "dtype: int64"
      ]
     },
     "execution_count": 4,
     "metadata": {},
     "output_type": "execute_result"
    }
   ],
   "source": [
    "#Check null fields\n",
    "df.isnull().sum()"
   ]
  },
  {
   "cell_type": "code",
   "execution_count": 5,
   "id": "c330dcd4",
   "metadata": {},
   "outputs": [],
   "source": [
    "#Find where the genres are split and remove the sub genres\n",
    "def removeSubGenre(genre):\n",
    "    myGenre = genre.split(',')\n",
    "    return myGenre[0]\n",
    "#Sub genres are the second item in the arrays\n",
    "def getSubGenre(something):\n",
    "    myGenres = something.split(',')\n",
    "    if(len(myGenres) == 1):\n",
    "        return 'None'\n",
    "    else:\n",
    "        myGenres[1] = myGenres[1].replace(' ','')\n",
    "        return myGenres[1]\n",
    "\n",
    "#For some reason the years read as objects and one sticks out, here's a function to fix that\n",
    "def getYear(year):\n",
    "    if(type(year) != type(2)):\n",
    "        if(len(year) > 4 or len(year)< 4):\n",
    "            year = year[-4:]\n",
    "            int(year)\n",
    "        year = int(year)\n",
    "    else:\n",
    "        year = year\n",
    "    return year\n",
    "\n",
    "#Converting the imdb rating to a sort of anime tiering system\n",
    "def createTier(rating):\n",
    "    if(rating >= 0 and rating < 5):\n",
    "        tier = 'F'\n",
    "    elif(rating >= 5 and rating < 6):\n",
    "        tier = 'C'\n",
    "    elif(rating >= 6 and rating < 7):\n",
    "        tier = 'B'\n",
    "    elif(rating >= 7 and rating < 8.5):\n",
    "        tier = 'A'\n",
    "    elif(rating >= 8.5 and rating <=10):\n",
    "        tier = 'S'\n",
    "    return tier\n",
    "#Converting the runtime to a description\n",
    "def createLength(runtime):\n",
    "    if(runtime >= 0 and runtime < 60):\n",
    "        length = 'Very Short'\n",
    "    elif(runtime >= 60 and runtime < 90):\n",
    "        length = 'Short'\n",
    "    elif(runtime >= 90 and runtime < 120):\n",
    "        length = 'Perfect'\n",
    "    elif(runtime >= 120 and runtime < 180):\n",
    "        length = 'Long'\n",
    "    elif(runtime >= 180):\n",
    "        length = 'Very Long'\n",
    "    return length"
   ]
  },
  {
   "cell_type": "code",
   "execution_count": 6,
   "id": "35d3bf03",
   "metadata": {},
   "outputs": [],
   "source": [
    "#Running the functions\n",
    "df['Genre'] = df['genre'].apply(removeSubGenre)\n",
    "df['Sub_Genre'] = df['genre'].apply(getSubGenre)\n",
    "df['Year'] = df['Year'].apply(getYear)\n",
    "df['Tier'] = df['IMDB_Rating'].apply(createTier)\n",
    "df['Length'] = df['Runtime'].apply(createLength)"
   ]
  },
  {
   "cell_type": "code",
   "execution_count": 7,
   "id": "10805fe7",
   "metadata": {},
   "outputs": [
    {
     "data": {
      "text/plain": [
       "genre             0\n",
       "Title             0\n",
       "Year              0\n",
       "Runtime           0\n",
       "Director         87\n",
       "Writer         1572\n",
       "IMDB_Rating       0\n",
       "Genre             0\n",
       "Sub_Genre         0\n",
       "Tier              0\n",
       "Length            0\n",
       "dtype: int64"
      ]
     },
     "execution_count": 7,
     "metadata": {},
     "output_type": "execute_result"
    }
   ],
   "source": [
    "df.isnull().sum()"
   ]
  },
  {
   "cell_type": "code",
   "execution_count": 8,
   "id": "6ae73e63",
   "metadata": {},
   "outputs": [],
   "source": [
    "#Removing old genre\n",
    "df = df.drop(labels=['genre'], axis = 1)"
   ]
  },
  {
   "cell_type": "code",
   "execution_count": 9,
   "id": "2f24e7d8",
   "metadata": {},
   "outputs": [
    {
     "data": {
      "text/html": [
       "<div>\n",
       "<style scoped>\n",
       "    .dataframe tbody tr th:only-of-type {\n",
       "        vertical-align: middle;\n",
       "    }\n",
       "\n",
       "    .dataframe tbody tr th {\n",
       "        vertical-align: top;\n",
       "    }\n",
       "\n",
       "    .dataframe thead th {\n",
       "        text-align: right;\n",
       "    }\n",
       "</style>\n",
       "<table border=\"1\" class=\"dataframe\">\n",
       "  <thead>\n",
       "    <tr style=\"text-align: right;\">\n",
       "      <th></th>\n",
       "      <th>Title</th>\n",
       "      <th>Year</th>\n",
       "      <th>Runtime</th>\n",
       "      <th>Director</th>\n",
       "      <th>Writer</th>\n",
       "      <th>IMDB_Rating</th>\n",
       "      <th>Genre</th>\n",
       "      <th>Sub_Genre</th>\n",
       "      <th>Tier</th>\n",
       "      <th>Length</th>\n",
       "    </tr>\n",
       "  </thead>\n",
       "  <tbody>\n",
       "    <tr>\n",
       "      <th>0</th>\n",
       "      <td>Miss Jerry</td>\n",
       "      <td>1894</td>\n",
       "      <td>45</td>\n",
       "      <td>Alexander Black</td>\n",
       "      <td>Alexander Black</td>\n",
       "      <td>5.9</td>\n",
       "      <td>Romance</td>\n",
       "      <td>None</td>\n",
       "      <td>C</td>\n",
       "      <td>Very Short</td>\n",
       "    </tr>\n",
       "    <tr>\n",
       "      <th>1</th>\n",
       "      <td>The Story of the Kelly Gang</td>\n",
       "      <td>1906</td>\n",
       "      <td>70</td>\n",
       "      <td>Charles Tait</td>\n",
       "      <td>Charles Tait</td>\n",
       "      <td>6.1</td>\n",
       "      <td>Biography</td>\n",
       "      <td>Crime</td>\n",
       "      <td>B</td>\n",
       "      <td>Short</td>\n",
       "    </tr>\n",
       "    <tr>\n",
       "      <th>2</th>\n",
       "      <td>Den sorte drøm</td>\n",
       "      <td>1911</td>\n",
       "      <td>53</td>\n",
       "      <td>Urban Gad</td>\n",
       "      <td>Urban Gad, Gebhard Schätzler-Perasini</td>\n",
       "      <td>5.8</td>\n",
       "      <td>Drama</td>\n",
       "      <td>None</td>\n",
       "      <td>C</td>\n",
       "      <td>Very Short</td>\n",
       "    </tr>\n",
       "    <tr>\n",
       "      <th>3</th>\n",
       "      <td>Cleopatra</td>\n",
       "      <td>1912</td>\n",
       "      <td>100</td>\n",
       "      <td>Charles L. Gaskill</td>\n",
       "      <td>Victorien Sardou</td>\n",
       "      <td>5.2</td>\n",
       "      <td>Drama</td>\n",
       "      <td>History</td>\n",
       "      <td>C</td>\n",
       "      <td>Perfect</td>\n",
       "    </tr>\n",
       "    <tr>\n",
       "      <th>4</th>\n",
       "      <td>L'Inferno</td>\n",
       "      <td>1911</td>\n",
       "      <td>68</td>\n",
       "      <td>Francesco Bertolini, Adolfo Padovan</td>\n",
       "      <td>Dante Alighieri</td>\n",
       "      <td>7.0</td>\n",
       "      <td>Adventure</td>\n",
       "      <td>Drama</td>\n",
       "      <td>A</td>\n",
       "      <td>Short</td>\n",
       "    </tr>\n",
       "  </tbody>\n",
       "</table>\n",
       "</div>"
      ],
      "text/plain": [
       "                         Title  Year  Runtime  \\\n",
       "0                   Miss Jerry  1894       45   \n",
       "1  The Story of the Kelly Gang  1906       70   \n",
       "2               Den sorte drøm  1911       53   \n",
       "3                    Cleopatra  1912      100   \n",
       "4                    L'Inferno  1911       68   \n",
       "\n",
       "                              Director                                 Writer  \\\n",
       "0                      Alexander Black                        Alexander Black   \n",
       "1                         Charles Tait                           Charles Tait   \n",
       "2                            Urban Gad  Urban Gad, Gebhard Schätzler-Perasini   \n",
       "3                   Charles L. Gaskill                       Victorien Sardou   \n",
       "4  Francesco Bertolini, Adolfo Padovan                        Dante Alighieri   \n",
       "\n",
       "   IMDB_Rating      Genre Sub_Genre Tier      Length  \n",
       "0          5.9    Romance      None    C  Very Short  \n",
       "1          6.1  Biography     Crime    B       Short  \n",
       "2          5.8      Drama      None    C  Very Short  \n",
       "3          5.2      Drama   History    C     Perfect  \n",
       "4          7.0  Adventure     Drama    A       Short  "
      ]
     },
     "execution_count": 9,
     "metadata": {},
     "output_type": "execute_result"
    }
   ],
   "source": [
    "df.head()"
   ]
  },
  {
   "cell_type": "code",
   "execution_count": 10,
   "id": "1cac2c5c",
   "metadata": {},
   "outputs": [],
   "source": [
    "df.to_csv('cleaned_imdb.csv')"
   ]
  },
  {
   "cell_type": "code",
   "execution_count": null,
   "id": "26002bea",
   "metadata": {},
   "outputs": [],
   "source": []
  },
  {
   "cell_type": "code",
   "execution_count": null,
   "id": "7a21945f",
   "metadata": {},
   "outputs": [],
   "source": []
  },
  {
   "cell_type": "code",
   "execution_count": null,
   "id": "01c70d86",
   "metadata": {},
   "outputs": [],
   "source": []
  },
  {
   "cell_type": "code",
   "execution_count": null,
   "id": "69cafe91",
   "metadata": {},
   "outputs": [],
   "source": []
  },
  {
   "cell_type": "code",
   "execution_count": null,
   "id": "a5388669",
   "metadata": {},
   "outputs": [],
   "source": []
  },
  {
   "cell_type": "code",
   "execution_count": null,
   "id": "9321f410",
   "metadata": {},
   "outputs": [],
   "source": []
  },
  {
   "cell_type": "code",
   "execution_count": null,
   "id": "c5651c70",
   "metadata": {},
   "outputs": [],
   "source": []
  }
 ],
 "metadata": {
  "kernelspec": {
   "display_name": "Python 3",
   "language": "python",
   "name": "python3"
  },
  "language_info": {
   "codemirror_mode": {
    "name": "ipython",
    "version": 3
   },
   "file_extension": ".py",
   "mimetype": "text/x-python",
   "name": "python",
   "nbconvert_exporter": "python",
   "pygments_lexer": "ipython3",
   "version": "3.8.8"
  }
 },
 "nbformat": 4,
 "nbformat_minor": 5
}
