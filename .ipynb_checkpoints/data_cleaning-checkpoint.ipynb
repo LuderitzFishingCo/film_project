{
 "cells": [
  {
   "cell_type": "code",
   "execution_count": 1,
   "id": "9cd1c3aa",
   "metadata": {},
   "outputs": [],
   "source": [
    "import pandas as pd"
   ]
  },
  {
   "cell_type": "code",
   "execution_count": 2,
   "id": "d20e82ff",
   "metadata": {},
   "outputs": [
    {
     "name": "stderr",
     "output_type": "stream",
     "text": [
      "C:\\Users\\ndesh\\anaconda3\\lib\\site-packages\\IPython\\core\\interactiveshell.py:3165: DtypeWarning: Columns (3) have mixed types.Specify dtype option on import or set low_memory=False.\n",
      "  has_raised = await self.run_ast_nodes(code_ast.body, cell_name,\n"
     ]
    }
   ],
   "source": [
    "df = pd.read_csv('IMDb movies.csv')"
   ]
  },
  {
   "cell_type": "code",
   "execution_count": 5,
   "id": "eea7e589",
   "metadata": {},
   "outputs": [
    {
     "data": {
      "text/plain": [
       "imdb_title_id             object\n",
       "title                     object\n",
       "original_title            object\n",
       "year                      object\n",
       "date_published            object\n",
       "genre                     object\n",
       "duration                   int64\n",
       "country                   object\n",
       "language                  object\n",
       "director                  object\n",
       "writer                    object\n",
       "production_company        object\n",
       "actors                    object\n",
       "description               object\n",
       "avg_vote                 float64\n",
       "votes                      int64\n",
       "budget                    object\n",
       "usa_gross_income          object\n",
       "worlwide_gross_income     object\n",
       "metascore                float64\n",
       "reviews_from_users       float64\n",
       "reviews_from_critics     float64\n",
       "dtype: object"
      ]
     },
     "execution_count": 5,
     "metadata": {},
     "output_type": "execute_result"
    }
   ],
   "source": [
    "#Just checking the data types, some need fixing\n",
    "df.dtypes"
   ]
  },
  {
   "cell_type": "code",
   "execution_count": 7,
   "id": "b0328411",
   "metadata": {},
   "outputs": [],
   "source": [
    "#Find where the genres are split and remove the sub genres\n",
    "def removeSubGenre(genre):\n",
    "    myGenre = genre.split(',')\n",
    "    return myGenre[0]\n",
    "#Sub genres are the second item in the arrays\n",
    "def getSubGenre(something):\n",
    "    myGenres = something.split(',')\n",
    "    if(len(myGenres) == 1):\n",
    "        return 'None'\n",
    "    else:\n",
    "        myGenres[1] = myGenres[1].replace(' ','')\n",
    "        return myGenres[1]\n",
    "#For some reason the years read as objects and one sticks out, here's a function to fix that\n",
    "def fixYear(year):\n",
    "    if(type(year) != type(2)):\n",
    "        if(len(year) > 4 or len(year)< 4):\n",
    "            year = year[-4:]\n",
    "            int(year)\n",
    "        year = int(year)\n",
    "        return year"
   ]
  },
  {
   "cell_type": "code",
   "execution_count": 10,
   "id": "c330dcd4",
   "metadata": {},
   "outputs": [],
   "source": [
    "#I like capital letters\n",
    "df['Title'] = df['title']\n",
    "df['Year'] = df['year']\n",
    "df['Runtime'] = df['duration']\n",
    "df['Language'] = df['language']\n",
    "df['Director'] = df['director']\n",
    "df['Writer'] = df['writer']\n",
    "df['IMDB_Rating'] = df['avg_vote']\n",
    "#Running the functions\n",
    "df['Genre'] = df['genre'].apply(removeSubGenre)\n",
    "df['Sub_Genre'] = df['genre'].apply(getSubGenre)\n",
    "df['Year'] = df['Year'].apply(fixYear)\n",
    "#Remove the columns I no longer need\n",
    "df = df.drop(labels=['title','year','duration','language','director','writer','avg_vote','imdb_title_id','metascore','genre','original_title','date_published','country','actors','production_company','description','votes','budget','usa_gross_income','worlwide_gross_income','reviews_from_users','reviews_from_critics'], axis = 1)"
   ]
  },
  {
   "cell_type": "code",
   "execution_count": 11,
   "id": "35d3bf03",
   "metadata": {},
   "outputs": [
    {
     "data": {
      "text/plain": [
       "Title           object\n",
       "Year           float64\n",
       "Runtime          int64\n",
       "Language        object\n",
       "Director        object\n",
       "Writer          object\n",
       "IMDB_Rating    float64\n",
       "Genre           object\n",
       "Sub_Genre       object\n",
       "dtype: object"
      ]
     },
     "execution_count": 11,
     "metadata": {},
     "output_type": "execute_result"
    }
   ],
   "source": [
    "df.dtypes"
   ]
  },
  {
   "cell_type": "code",
   "execution_count": 12,
   "id": "10805fe7",
   "metadata": {},
   "outputs": [],
   "source": [
    "df.to_csv('cleaned_films.csv')"
   ]
  },
  {
   "cell_type": "code",
   "execution_count": null,
   "id": "6ae73e63",
   "metadata": {},
   "outputs": [],
   "source": []
  }
 ],
 "metadata": {
  "kernelspec": {
   "display_name": "Python 3",
   "language": "python",
   "name": "python3"
  },
  "language_info": {
   "codemirror_mode": {
    "name": "ipython",
    "version": 3
   },
   "file_extension": ".py",
   "mimetype": "text/x-python",
   "name": "python",
   "nbconvert_exporter": "python",
   "pygments_lexer": "ipython3",
   "version": "3.8.8"
  }
 },
 "nbformat": 4,
 "nbformat_minor": 5
}
