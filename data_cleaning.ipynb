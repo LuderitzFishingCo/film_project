{
 "cells": [
  {
   "cell_type": "code",
   "execution_count": 10,
   "id": "9cd1c3aa",
   "metadata": {},
   "outputs": [],
   "source": [
    "import pandas as pd"
   ]
  },
  {
   "cell_type": "code",
   "execution_count": 17,
   "id": "d20e82ff",
   "metadata": {},
   "outputs": [],
   "source": [
    "df = pd.read_csv('IMDb movies.csv')"
   ]
  },
  {
   "cell_type": "code",
   "execution_count": 18,
   "id": "eea7e589",
   "metadata": {},
   "outputs": [
    {
     "data": {
      "text/plain": [
       "imdb_title_id             object\n",
       "title                     object\n",
       "original_title            object\n",
       "year                      object\n",
       "date_published            object\n",
       "genre                     object\n",
       "duration                   int64\n",
       "country                   object\n",
       "language                  object\n",
       "director                  object\n",
       "writer                    object\n",
       "production_company        object\n",
       "actors                    object\n",
       "description               object\n",
       "avg_vote                 float64\n",
       "votes                      int64\n",
       "budget                    object\n",
       "usa_gross_income          object\n",
       "worlwide_gross_income     object\n",
       "metascore                float64\n",
       "reviews_from_users       float64\n",
       "reviews_from_critics     float64\n",
       "dtype: object"
      ]
     },
     "execution_count": 18,
     "metadata": {},
     "output_type": "execute_result"
    }
   ],
   "source": [
    "#Just checking the data types, some need fixing\n",
    "df.dtypes"
   ]
  },
  {
   "cell_type": "code",
   "execution_count": 19,
   "id": "b0328411",
   "metadata": {},
   "outputs": [
    {
     "data": {
      "text/plain": [
       "imdb_title_id                0\n",
       "title                        0\n",
       "original_title               0\n",
       "year                         0\n",
       "date_published               0\n",
       "genre                        0\n",
       "duration                     0\n",
       "country                     64\n",
       "language                   833\n",
       "director                    87\n",
       "writer                    1572\n",
       "production_company        4455\n",
       "actors                      69\n",
       "description               2115\n",
       "avg_vote                     0\n",
       "votes                        0\n",
       "budget                   62145\n",
       "usa_gross_income         70529\n",
       "worlwide_gross_income    54839\n",
       "metascore                72550\n",
       "reviews_from_users        7597\n",
       "reviews_from_critics     11797\n",
       "dtype: int64"
      ]
     },
     "execution_count": 19,
     "metadata": {},
     "output_type": "execute_result"
    }
   ],
   "source": [
    "#Check null fields\n",
    "df.isnull().sum()"
   ]
  },
  {
   "cell_type": "code",
   "execution_count": 20,
   "id": "c330dcd4",
   "metadata": {},
   "outputs": [],
   "source": [
    "#I like capital letters\n",
    "df['Title'] = df['title']\n",
    "df['Year'] = df['year']\n",
    "df['Runtime'] = df['duration']\n",
    "df['Director'] = df['director']\n",
    "df['Writer'] = df['writer']\n",
    "df['IMDB_Rating'] = df['avg_vote']\n",
    "#Remove the columns I no longer need\n",
    "df = df.drop(labels=['title','year','duration','language','director','writer','avg_vote','imdb_title_id','metascore','original_title','date_published','country','actors','production_company','description','votes','budget','usa_gross_income','worlwide_gross_income','reviews_from_users','reviews_from_critics'], axis = 1)"
   ]
  },
  {
   "cell_type": "code",
   "execution_count": 21,
   "id": "35d3bf03",
   "metadata": {},
   "outputs": [
    {
     "data": {
      "text/plain": [
       "genre             0\n",
       "Title             0\n",
       "Year              0\n",
       "Runtime           0\n",
       "Director         87\n",
       "Writer         1572\n",
       "IMDB_Rating       0\n",
       "dtype: int64"
      ]
     },
     "execution_count": 21,
     "metadata": {},
     "output_type": "execute_result"
    }
   ],
   "source": [
    "df.isnull().sum()"
   ]
  },
  {
   "cell_type": "code",
   "execution_count": 22,
   "id": "10805fe7",
   "metadata": {},
   "outputs": [],
   "source": [
    "#Find where the genres are split and remove the sub genres\n",
    "def removeSubGenre(genre):\n",
    "    myGenre = genre.split(',')\n",
    "    return myGenre[0]\n",
    "#Sub genres are the second item in the arrays\n",
    "def getSubGenre(something):\n",
    "    myGenres = something.split(',')\n",
    "    if(len(myGenres) == 1):\n",
    "        return 'None'\n",
    "    else:\n",
    "        myGenres[1] = myGenres[1].replace(' ','')\n",
    "        return myGenres[1]\n",
    "\n",
    "#Running the functions\n",
    "df['Genre'] = df['genre'].apply(removeSubGenre)\n",
    "df['Sub_Genre'] = df['genre'].apply(getSubGenre)"
   ]
  },
  {
   "cell_type": "code",
   "execution_count": 23,
   "id": "6ae73e63",
   "metadata": {},
   "outputs": [
    {
     "data": {
      "text/plain": [
       "genre             0\n",
       "Title             0\n",
       "Year              0\n",
       "Runtime           0\n",
       "Director         87\n",
       "Writer         1572\n",
       "IMDB_Rating       0\n",
       "Genre             0\n",
       "Sub_Genre         0\n",
       "dtype: int64"
      ]
     },
     "execution_count": 23,
     "metadata": {},
     "output_type": "execute_result"
    }
   ],
   "source": [
    "df.isnull().sum()"
   ]
  },
  {
   "cell_type": "code",
   "execution_count": 25,
   "id": "2f24e7d8",
   "metadata": {},
   "outputs": [],
   "source": [
    "#For some reason the years read as objects and one sticks out, here's a function to fix that\n",
    "def getYear(year):\n",
    "    if(type(year) != type(2)):\n",
    "        if(len(year) > 4 or len(year)< 4):\n",
    "            year = year[-4:]\n",
    "            int(year)\n",
    "        year = int(year)\n",
    "    else:\n",
    "        year = year\n",
    "    return year"
   ]
  },
  {
   "cell_type": "code",
   "execution_count": 26,
   "id": "1cac2c5c",
   "metadata": {},
   "outputs": [],
   "source": [
    "df['Year'] = df['Year'].apply(getYear)"
   ]
  },
  {
   "cell_type": "code",
   "execution_count": 27,
   "id": "26002bea",
   "metadata": {},
   "outputs": [
    {
     "data": {
      "text/plain": [
       "genre             0\n",
       "Title             0\n",
       "Year              0\n",
       "Runtime           0\n",
       "Director         87\n",
       "Writer         1572\n",
       "IMDB_Rating       0\n",
       "Genre             0\n",
       "Sub_Genre         0\n",
       "dtype: int64"
      ]
     },
     "execution_count": 27,
     "metadata": {},
     "output_type": "execute_result"
    }
   ],
   "source": [
    "df.isnull().sum()"
   ]
  },
  {
   "cell_type": "code",
   "execution_count": 28,
   "id": "7a21945f",
   "metadata": {},
   "outputs": [],
   "source": [
    "df.to_csv('cleaned_films.csv')"
   ]
  },
  {
   "cell_type": "code",
   "execution_count": null,
   "id": "01c70d86",
   "metadata": {},
   "outputs": [],
   "source": []
  }
 ],
 "metadata": {
  "kernelspec": {
   "display_name": "Python 3",
   "language": "python",
   "name": "python3"
  },
  "language_info": {
   "codemirror_mode": {
    "name": "ipython",
    "version": 3
   },
   "file_extension": ".py",
   "mimetype": "text/x-python",
   "name": "python",
   "nbconvert_exporter": "python",
   "pygments_lexer": "ipython3",
   "version": "3.8.8"
  }
 },
 "nbformat": 4,
 "nbformat_minor": 5
}
